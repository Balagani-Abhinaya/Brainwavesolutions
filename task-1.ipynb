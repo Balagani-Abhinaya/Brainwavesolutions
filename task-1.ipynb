{
 "cells": [
  {
   "cell_type": "code",
   "execution_count": 1,
   "id": "b66ad091",
   "metadata": {},
   "outputs": [
    {
     "name": "stdout",
     "output_type": "stream",
     "text": [
      "Requirement already satisfied: pandas in c:\\users\\balag\\anaconda3\\lib\\site-packages (1.5.3)\n",
      "Requirement already satisfied: numpy in c:\\users\\balag\\anaconda3\\lib\\site-packages (1.23.5)\n",
      "Requirement already satisfied: matplotlib in c:\\users\\balag\\anaconda3\\lib\\site-packages (3.7.0)\n",
      "Requirement already satisfied: seaborn in c:\\users\\balag\\anaconda3\\lib\\site-packages (0.12.2)\n",
      "Requirement already satisfied: nltk in c:\\users\\balag\\anaconda3\\lib\\site-packages (3.9.1)\n",
      "Requirement already satisfied: textblob in c:\\users\\balag\\anaconda3\\lib\\site-packages (0.19.0)\n",
      "Requirement already satisfied: vaderSentiment in c:\\users\\balag\\anaconda3\\lib\\site-packages (3.3.2)\n",
      "Requirement already satisfied: pytz>=2020.1 in c:\\users\\balag\\anaconda3\\lib\\site-packages (from pandas) (2022.7)\n",
      "Requirement already satisfied: python-dateutil>=2.8.1 in c:\\users\\balag\\anaconda3\\lib\\site-packages (from pandas) (2.8.2)\n",
      "Requirement already satisfied: fonttools>=4.22.0 in c:\\users\\balag\\anaconda3\\lib\\site-packages (from matplotlib) (4.25.0)\n",
      "Requirement already satisfied: pyparsing>=2.3.1 in c:\\users\\balag\\anaconda3\\lib\\site-packages (from matplotlib) (3.0.9)\n",
      "Requirement already satisfied: contourpy>=1.0.1 in c:\\users\\balag\\anaconda3\\lib\\site-packages (from matplotlib) (1.0.5)\n",
      "Requirement already satisfied: pillow>=6.2.0 in c:\\users\\balag\\anaconda3\\lib\\site-packages (from matplotlib) (9.4.0)\n",
      "Requirement already satisfied: cycler>=0.10 in c:\\users\\balag\\anaconda3\\lib\\site-packages (from matplotlib) (0.11.0)\n",
      "Requirement already satisfied: packaging>=20.0 in c:\\users\\balag\\anaconda3\\lib\\site-packages (from matplotlib) (22.0)\n",
      "Requirement already satisfied: kiwisolver>=1.0.1 in c:\\users\\balag\\anaconda3\\lib\\site-packages (from matplotlib) (1.4.4)\n",
      "Requirement already satisfied: click in c:\\users\\balag\\anaconda3\\lib\\site-packages (from nltk) (8.0.4)\n",
      "Requirement already satisfied: joblib in c:\\users\\balag\\anaconda3\\lib\\site-packages (from nltk) (1.1.1)\n",
      "Requirement already satisfied: regex>=2021.8.3 in c:\\users\\balag\\anaconda3\\lib\\site-packages (from nltk) (2022.7.9)\n",
      "Requirement already satisfied: tqdm in c:\\users\\balag\\anaconda3\\lib\\site-packages (from nltk) (4.64.1)\n",
      "Requirement already satisfied: requests in c:\\users\\balag\\anaconda3\\lib\\site-packages (from vaderSentiment) (2.28.1)\n",
      "Requirement already satisfied: six>=1.5 in c:\\users\\balag\\anaconda3\\lib\\site-packages (from python-dateutil>=2.8.1->pandas) (1.16.0)\n",
      "Requirement already satisfied: colorama in c:\\users\\balag\\anaconda3\\lib\\site-packages (from click->nltk) (0.4.6)\n",
      "Requirement already satisfied: certifi>=2017.4.17 in c:\\users\\balag\\anaconda3\\lib\\site-packages (from requests->vaderSentiment) (2022.12.7)\n",
      "Requirement already satisfied: idna<4,>=2.5 in c:\\users\\balag\\anaconda3\\lib\\site-packages (from requests->vaderSentiment) (3.4)\n",
      "Requirement already satisfied: urllib3<1.27,>=1.21.1 in c:\\users\\balag\\anaconda3\\lib\\site-packages (from requests->vaderSentiment) (1.26.14)\n",
      "Requirement already satisfied: charset-normalizer<3,>=2 in c:\\users\\balag\\anaconda3\\lib\\site-packages (from requests->vaderSentiment) (2.0.4)\n"
     ]
    }
   ],
   "source": [
    "!pip install pandas numpy matplotlib seaborn nltk textblob vaderSentiment\n"
   ]
  },
  {
   "cell_type": "code",
   "execution_count": 2,
   "id": "63db19f5",
   "metadata": {},
   "outputs": [
    {
     "name": "stderr",
     "output_type": "stream",
     "text": [
      "[nltk_data] Downloading package stopwords to\n",
      "[nltk_data]     C:\\Users\\balag\\AppData\\Roaming\\nltk_data...\n",
      "[nltk_data]   Package stopwords is already up-to-date!\n",
      "[nltk_data] Downloading package punkt to\n",
      "[nltk_data]     C:\\Users\\balag\\AppData\\Roaming\\nltk_data...\n",
      "[nltk_data]   Package punkt is already up-to-date!\n"
     ]
    },
    {
     "data": {
      "text/plain": [
       "True"
      ]
     },
     "execution_count": 2,
     "metadata": {},
     "output_type": "execute_result"
    }
   ],
   "source": [
    "import pandas as pd\n",
    "import numpy as np\n",
    "import matplotlib.pyplot as plt\n",
    "import seaborn as sns\n",
    "from textblob import TextBlob\n",
    "from vaderSentiment.vaderSentiment import SentimentIntensityAnalyzer\n",
    "import nltk\n",
    "from nltk.tokenize import word_tokenize\n",
    "import string\n",
    "\n",
    "nltk.download('stopwords')\n",
    "nltk.download('punkt')\n"
   ]
  },
  {
   "cell_type": "code",
   "execution_count": 6,
   "id": "7ef22e68",
   "metadata": {
    "scrolled": true
   },
   "outputs": [
    {
     "data": {
      "text/html": [
       "<div>\n",
       "<style scoped>\n",
       "    .dataframe tbody tr th:only-of-type {\n",
       "        vertical-align: middle;\n",
       "    }\n",
       "\n",
       "    .dataframe tbody tr th {\n",
       "        vertical-align: top;\n",
       "    }\n",
       "\n",
       "    .dataframe thead th {\n",
       "        text-align: right;\n",
       "    }\n",
       "</style>\n",
       "<table border=\"1\" class=\"dataframe\">\n",
       "  <thead>\n",
       "    <tr style=\"text-align: right;\">\n",
       "      <th></th>\n",
       "      <th>TEXT</th>\n",
       "      <th>DATE</th>\n",
       "    </tr>\n",
       "  </thead>\n",
       "  <tbody>\n",
       "    <tr>\n",
       "      <th>0</th>\n",
       "      <td>\"I love this product! It works great!\"</td>\n",
       "      <td>21-02-2025</td>\n",
       "    </tr>\n",
       "    <tr>\n",
       "      <th>1</th>\n",
       "      <td>\"Worst purchase I've ever made. Very disappoin...</td>\n",
       "      <td>21-02-2025</td>\n",
       "    </tr>\n",
       "    <tr>\n",
       "      <th>2</th>\n",
       "      <td>\"The quality is okay, but it could be better.\"</td>\n",
       "      <td>22-02-2025</td>\n",
       "    </tr>\n",
       "    <tr>\n",
       "      <th>3</th>\n",
       "      <td>\"Not worth the price at all.\"</td>\n",
       "      <td>22-02-2025</td>\n",
       "    </tr>\n",
       "    <tr>\n",
       "      <th>4</th>\n",
       "      <td>\"Amazing experience. Highly recommend it!\"</td>\n",
       "      <td>23-02-2025</td>\n",
       "    </tr>\n",
       "  </tbody>\n",
       "</table>\n",
       "</div>"
      ],
      "text/plain": [
       "                                                TEXT        DATE\n",
       "0             \"I love this product! It works great!\"  21-02-2025\n",
       "1  \"Worst purchase I've ever made. Very disappoin...  21-02-2025\n",
       "2     \"The quality is okay, but it could be better.\"  22-02-2025\n",
       "3                      \"Not worth the price at all.\"  22-02-2025\n",
       "4         \"Amazing experience. Highly recommend it!\"  23-02-2025"
      ]
     },
     "execution_count": 6,
     "metadata": {},
     "output_type": "execute_result"
    }
   ],
   "source": [
    "\n",
    "df = pd.read_csv(r\"C:\\Users\\balag\\OneDrive\\Desktop\\dataset.csv\")  \n",
    "\n",
    "\n",
    "df.head()\n"
   ]
  },
  {
   "cell_type": "code",
   "execution_count": 13,
   "id": "9c1a2b0b",
   "metadata": {},
   "outputs": [
    {
     "data": {
      "text/html": [
       "<div>\n",
       "<style scoped>\n",
       "    .dataframe tbody tr th:only-of-type {\n",
       "        vertical-align: middle;\n",
       "    }\n",
       "\n",
       "    .dataframe tbody tr th {\n",
       "        vertical-align: top;\n",
       "    }\n",
       "\n",
       "    .dataframe thead th {\n",
       "        text-align: right;\n",
       "    }\n",
       "</style>\n",
       "<table border=\"1\" class=\"dataframe\">\n",
       "  <thead>\n",
       "    <tr style=\"text-align: right;\">\n",
       "      <th></th>\n",
       "      <th>text</th>\n",
       "      <th>DATE</th>\n",
       "      <th>cleaned_text</th>\n",
       "    </tr>\n",
       "  </thead>\n",
       "  <tbody>\n",
       "    <tr>\n",
       "      <th>0</th>\n",
       "      <td>\"I love this product! It works great!\"</td>\n",
       "      <td>21-02-2025</td>\n",
       "      <td>i love this product it works great</td>\n",
       "    </tr>\n",
       "    <tr>\n",
       "      <th>1</th>\n",
       "      <td>\"Worst purchase I've ever made. Very disappoin...</td>\n",
       "      <td>21-02-2025</td>\n",
       "      <td>worst purchase ive ever made very disappointed</td>\n",
       "    </tr>\n",
       "    <tr>\n",
       "      <th>2</th>\n",
       "      <td>\"The quality is okay, but it could be better.\"</td>\n",
       "      <td>22-02-2025</td>\n",
       "      <td>the quality is okay but it could be better</td>\n",
       "    </tr>\n",
       "    <tr>\n",
       "      <th>3</th>\n",
       "      <td>\"Not worth the price at all.\"</td>\n",
       "      <td>22-02-2025</td>\n",
       "      <td>not worth the price at all</td>\n",
       "    </tr>\n",
       "    <tr>\n",
       "      <th>4</th>\n",
       "      <td>\"Amazing experience. Highly recommend it!\"</td>\n",
       "      <td>23-02-2025</td>\n",
       "      <td>amazing experience highly recommend it</td>\n",
       "    </tr>\n",
       "  </tbody>\n",
       "</table>\n",
       "</div>"
      ],
      "text/plain": [
       "                                                text        DATE  \\\n",
       "0             \"I love this product! It works great!\"  21-02-2025   \n",
       "1  \"Worst purchase I've ever made. Very disappoin...  21-02-2025   \n",
       "2     \"The quality is okay, but it could be better.\"  22-02-2025   \n",
       "3                      \"Not worth the price at all.\"  22-02-2025   \n",
       "4         \"Amazing experience. Highly recommend it!\"  23-02-2025   \n",
       "\n",
       "                                     cleaned_text  \n",
       "0              i love this product it works great  \n",
       "1  worst purchase ive ever made very disappointed  \n",
       "2      the quality is okay but it could be better  \n",
       "3                      not worth the price at all  \n",
       "4          amazing experience highly recommend it  "
      ]
     },
     "execution_count": 13,
     "metadata": {},
     "output_type": "execute_result"
    }
   ],
   "source": [
    "\n",
    "import pandas as pd\n",
    "import re\n",
    "import string\n",
    "\n",
    "file_path = r\"C:\\Users\\balag\\OneDrive\\Desktop\\dataset.csv\"\n",
    "df = pd.read_csv(file_path)\n",
    "\n",
    "df.rename(columns={'TEXT': 'text'}, inplace=True)\n",
    "def clean_text(text):\n",
    "    if isinstance(text, str): \n",
    "        text = text.lower()  \n",
    "        text = re.sub(r'\\d+', '', text)  \n",
    "        text = text.translate(str.maketrans('', '', string.punctuation))  \n",
    "        text = text.strip()  \n",
    "        text = ' '.join(text.split()) \n",
    "        return text\n",
    "    return \"\"  \n",
    "df['cleaned_text'] = df['text'].apply(clean_text)\n",
    "df.head()\n"
   ]
  },
  {
   "cell_type": "code",
   "execution_count": 14,
   "id": "5d9e6eaa",
   "metadata": {},
   "outputs": [
    {
     "data": {
      "text/html": [
       "<div>\n",
       "<style scoped>\n",
       "    .dataframe tbody tr th:only-of-type {\n",
       "        vertical-align: middle;\n",
       "    }\n",
       "\n",
       "    .dataframe tbody tr th {\n",
       "        vertical-align: top;\n",
       "    }\n",
       "\n",
       "    .dataframe thead th {\n",
       "        text-align: right;\n",
       "    }\n",
       "</style>\n",
       "<table border=\"1\" class=\"dataframe\">\n",
       "  <thead>\n",
       "    <tr style=\"text-align: right;\">\n",
       "      <th></th>\n",
       "      <th>text</th>\n",
       "      <th>cleaned_text</th>\n",
       "      <th>sentiment_textblob</th>\n",
       "    </tr>\n",
       "  </thead>\n",
       "  <tbody>\n",
       "    <tr>\n",
       "      <th>0</th>\n",
       "      <td>\"I love this product! It works great!\"</td>\n",
       "      <td>i love this product it works great</td>\n",
       "      <td>0.6500</td>\n",
       "    </tr>\n",
       "    <tr>\n",
       "      <th>1</th>\n",
       "      <td>\"Worst purchase I've ever made. Very disappoin...</td>\n",
       "      <td>worst purchase ive ever made very disappointed</td>\n",
       "      <td>-0.9875</td>\n",
       "    </tr>\n",
       "    <tr>\n",
       "      <th>2</th>\n",
       "      <td>\"The quality is okay, but it could be better.\"</td>\n",
       "      <td>the quality is okay but it could be better</td>\n",
       "      <td>0.5000</td>\n",
       "    </tr>\n",
       "    <tr>\n",
       "      <th>3</th>\n",
       "      <td>\"Not worth the price at all.\"</td>\n",
       "      <td>not worth the price at all</td>\n",
       "      <td>-0.1500</td>\n",
       "    </tr>\n",
       "    <tr>\n",
       "      <th>4</th>\n",
       "      <td>\"Amazing experience. Highly recommend it!\"</td>\n",
       "      <td>amazing experience highly recommend it</td>\n",
       "      <td>0.3800</td>\n",
       "    </tr>\n",
       "  </tbody>\n",
       "</table>\n",
       "</div>"
      ],
      "text/plain": [
       "                                                text  \\\n",
       "0             \"I love this product! It works great!\"   \n",
       "1  \"Worst purchase I've ever made. Very disappoin...   \n",
       "2     \"The quality is okay, but it could be better.\"   \n",
       "3                      \"Not worth the price at all.\"   \n",
       "4         \"Amazing experience. Highly recommend it!\"   \n",
       "\n",
       "                                     cleaned_text  sentiment_textblob  \n",
       "0              i love this product it works great              0.6500  \n",
       "1  worst purchase ive ever made very disappointed             -0.9875  \n",
       "2      the quality is okay but it could be better              0.5000  \n",
       "3                      not worth the price at all             -0.1500  \n",
       "4          amazing experience highly recommend it              0.3800  "
      ]
     },
     "execution_count": 14,
     "metadata": {},
     "output_type": "execute_result"
    }
   ],
   "source": [
    "from textblob import TextBlob\n",
    "def get_sentiment_textblob(text):\n",
    "    if isinstance(text, str) and text.strip():  \n",
    "        blob = TextBlob(text)\n",
    "        return blob.sentiment.polarity  \n",
    "    return 0  \n",
    "\n",
    "df['sentiment_textblob'] = df['cleaned_text'].apply(get_sentiment_textblob)\n",
    "df[['text', 'cleaned_text', 'sentiment_textblob']].head()\n"
   ]
  },
  {
   "cell_type": "code",
   "execution_count": 15,
   "id": "7bd7c86f",
   "metadata": {},
   "outputs": [
    {
     "name": "stderr",
     "output_type": "stream",
     "text": [
      "[nltk_data] Downloading package vader_lexicon to\n",
      "[nltk_data]     C:\\Users\\balag\\AppData\\Roaming\\nltk_data...\n"
     ]
    },
    {
     "data": {
      "text/html": [
       "<div>\n",
       "<style scoped>\n",
       "    .dataframe tbody tr th:only-of-type {\n",
       "        vertical-align: middle;\n",
       "    }\n",
       "\n",
       "    .dataframe tbody tr th {\n",
       "        vertical-align: top;\n",
       "    }\n",
       "\n",
       "    .dataframe thead th {\n",
       "        text-align: right;\n",
       "    }\n",
       "</style>\n",
       "<table border=\"1\" class=\"dataframe\">\n",
       "  <thead>\n",
       "    <tr style=\"text-align: right;\">\n",
       "      <th></th>\n",
       "      <th>text</th>\n",
       "      <th>cleaned_text</th>\n",
       "      <th>sentiment_vader</th>\n",
       "    </tr>\n",
       "  </thead>\n",
       "  <tbody>\n",
       "    <tr>\n",
       "      <th>0</th>\n",
       "      <td>\"I love this product! It works great!\"</td>\n",
       "      <td>i love this product it works great</td>\n",
       "      <td>0.8519</td>\n",
       "    </tr>\n",
       "    <tr>\n",
       "      <th>1</th>\n",
       "      <td>\"Worst purchase I've ever made. Very disappoin...</td>\n",
       "      <td>worst purchase ive ever made very disappointed</td>\n",
       "      <td>-0.8173</td>\n",
       "    </tr>\n",
       "    <tr>\n",
       "      <th>2</th>\n",
       "      <td>\"The quality is okay, but it could be better.\"</td>\n",
       "      <td>the quality is okay but it could be better</td>\n",
       "      <td>0.6486</td>\n",
       "    </tr>\n",
       "    <tr>\n",
       "      <th>3</th>\n",
       "      <td>\"Not worth the price at all.\"</td>\n",
       "      <td>not worth the price at all</td>\n",
       "      <td>-0.1695</td>\n",
       "    </tr>\n",
       "    <tr>\n",
       "      <th>4</th>\n",
       "      <td>\"Amazing experience. Highly recommend it!\"</td>\n",
       "      <td>amazing experience highly recommend it</td>\n",
       "      <td>0.7645</td>\n",
       "    </tr>\n",
       "  </tbody>\n",
       "</table>\n",
       "</div>"
      ],
      "text/plain": [
       "                                                text  \\\n",
       "0             \"I love this product! It works great!\"   \n",
       "1  \"Worst purchase I've ever made. Very disappoin...   \n",
       "2     \"The quality is okay, but it could be better.\"   \n",
       "3                      \"Not worth the price at all.\"   \n",
       "4         \"Amazing experience. Highly recommend it!\"   \n",
       "\n",
       "                                     cleaned_text  sentiment_vader  \n",
       "0              i love this product it works great           0.8519  \n",
       "1  worst purchase ive ever made very disappointed          -0.8173  \n",
       "2      the quality is okay but it could be better           0.6486  \n",
       "3                      not worth the price at all          -0.1695  \n",
       "4          amazing experience highly recommend it           0.7645  "
      ]
     },
     "execution_count": 15,
     "metadata": {},
     "output_type": "execute_result"
    }
   ],
   "source": [
    "import nltk\n",
    "from nltk.sentiment import SentimentIntensityAnalyzer\n",
    "nltk.download('vader_lexicon')\n",
    "analyzer = SentimentIntensityAnalyzer()\n",
    "\n",
    "def get_sentiment_vader(text):\n",
    "    if isinstance(text, str) and text.strip():  \n",
    "        sentiment = analyzer.polarity_scores(text)\n",
    "        return sentiment['compound']  \n",
    "    return 0  \n",
    "df['sentiment_vader'] = df['cleaned_text'].apply(get_sentiment_vader)\n",
    "df[['text', 'cleaned_text', 'sentiment_vader']].head()\n"
   ]
  },
  {
   "cell_type": "code",
   "execution_count": 19,
   "id": "a8640e7e",
   "metadata": {},
   "outputs": [
    {
     "name": "stderr",
     "output_type": "stream",
     "text": [
      "C:\\Users\\balag\\AppData\\Local\\Temp\\ipykernel_36364\\4283103351.py:26: FutureWarning: The default value of numeric_only in DataFrameGroupBy.mean is deprecated. In a future version, numeric_only will default to False. Either specify numeric_only or select only columns which should be valid for the function.\n",
      "  df_daily_sentiment = df.resample('D').mean()\n"
     ]
    },
    {
     "data": {
      "image/png": "[encoded data removed]",
      "text/plain": [
       "<Figure size 1200x600 with 1 Axes>"
      ]
     },
     "metadata": {},
     "output_type": "display_data"
    }
   ],
   "source": [
    "import pandas as pd\n",
    "import matplotlib.pyplot as plt\n",
    "from textblob import TextBlob\n",
    "from vaderSentiment.vaderSentiment import SentimentIntensityAnalyzer\n",
    "\n",
    "df['date'] = pd.to_datetime(df['date'], format='%d/%m/%Y', errors='coerce')\n",
    "\n",
    "analyzer = SentimentIntensityAnalyzer()\n",
    "\n",
    "df['sentiment_textblob'] = df['TEXT'].apply(lambda x: TextBlob(x).sentiment.polarity)\n",
    "df['sentiment_vader'] = df['TEXT'].apply(lambda x: analyzer.polarity_scores(x)['compound'])\n",
    "df.set_index('date', inplace=True)\n",
    "df_daily_sentiment = df.resample('D').mean()\n",
    "plt.figure(figsize=(12,6))\n",
    "plt.plot(df_daily_sentiment.index, df_daily_sentiment['sentiment_textblob'], label='TextBlob Sentiment', color='blue')\n",
    "plt.plot(df_daily_sentiment.index, df_daily_sentiment['sentiment_vader'], label='VADER Sentiment', color='red')\n",
    "plt.title('Sentiment Trend Over Time')\n",
    "plt.xlabel('Date')\n",
    "plt.ylabel('Sentiment Score')\n",
    "plt.legend()\n",
    "plt.show()\n"
   ]
  },
  {
   "cell_type": "code",
   "execution_count": 20,
   "id": "205620b0",
   "metadata": {},
   "outputs": [
    {
     "name": "stdout",
     "output_type": "stream",
     "text": [
      "strongly_positive    3\n",
      "strongly_negative    2\n",
      "Name: sentiment_category, dtype: int64\n"
     ]
    }
   ],
   "source": [
    "def categorize_sentiment(score):\n",
    "    if pd.isna(score):  \n",
    "        return 'unknown'\n",
    "    elif score > 0.1:  \n",
    "        return 'strongly_positive'\n",
    "    elif score > 0.05:\n",
    "        return 'positive'\n",
    "    elif score < -0.1:  \n",
    "        return 'strongly_negative'\n",
    "    elif score < -0.05:\n",
    "        return 'negative'\n",
    "    else:\n",
    "        return 'neutral'\n",
    "\n",
    "df['sentiment_category'] = df['sentiment_vader'].apply(categorize_sentiment)\n",
    "\n",
    "sentiment_distribution = df['sentiment_category'].value_counts()\n",
    "print(sentiment_distribution)\n"
   ]
  },
  {
   "cell_type": "code",
   "execution_count": null,
   "id": "6d547016",
   "metadata": {},
   "outputs": [],
   "source": []
  }
 ],
 "metadata": {
  "kernelspec": {
   "display_name": "Python 3 (ipykernel)",
   "language": "python",
   "name": "python3"
  },
  "language_info": {
   "codemirror_mode": {
    "name": "ipython",
    "version": 3
   },
   "file_extension": ".py",
   "mimetype": "text/x-python",
   "name": "python",
   "nbconvert_exporter": "python",
   "pygments_lexer": "ipython3",
   "version": "3.10.9"
  }
 },
 "nbformat": 4,
 "nbformat_minor": 5
}
